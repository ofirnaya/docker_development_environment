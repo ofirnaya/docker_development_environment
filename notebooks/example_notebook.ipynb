{
 "cells": [
  {
   "cell_type": "markdown",
   "id": "552f7d32",
   "metadata": {},
   "source": [
    "# Example Spark application"
   ]
  },
  {
   "cell_type": "markdown",
   "id": "f9331f99",
   "metadata": {},
   "source": [
    "### Imports"
   ]
  },
  {
   "cell_type": "code",
   "execution_count": null,
   "id": "f6320787",
   "metadata": {},
   "outputs": [],
   "source": [
    "from pyspark.sql import SparkSession\n",
    "from pyspark.sql import Row"
   ]
  },
  {
   "cell_type": "markdown",
   "id": "d58eaae8",
   "metadata": {},
   "source": [
    "### Initialize Spark session"
   ]
  },
  {
   "cell_type": "code",
   "execution_count": null,
   "id": "db5fe669",
   "metadata": {},
   "outputs": [],
   "source": [
    "spark = SparkSession.builder.master('local[*]').appName('example_app').getOrCreate()"
   ]
  },
  {
   "cell_type": "markdown",
   "id": "328dd334",
   "metadata": {},
   "source": [
    "### Create data & struct"
   ]
  },
  {
   "cell_type": "code",
   "execution_count": null,
   "id": "8d074bd1",
   "metadata": {},
   "outputs": [],
   "source": [
    "example_data = [Row('one'), Row('two'), Row('three'), Row('four')]\n",
    "cols = ['my_col']"
   ]
  },
  {
   "cell_type": "markdown",
   "id": "faa4fcd4",
   "metadata": {},
   "source": [
    "### Create Dataframe from data"
   ]
  },
  {
   "cell_type": "code",
   "execution_count": null,
   "id": "37cdb25f",
   "metadata": {},
   "outputs": [],
   "source": [
    "data_df = spark.createDataFrame(data=example_data, schema=cols)"
   ]
  },
  {
   "cell_type": "markdown",
   "id": "2d63de8a",
   "metadata": {},
   "source": [
    "### Show data"
   ]
  },
  {
   "cell_type": "code",
   "execution_count": null,
   "id": "3103ba5b",
   "metadata": {},
   "outputs": [],
   "source": [
    "data_df.show()"
   ]
  },
  {
   "cell_type": "markdown",
   "id": "e4079731",
   "metadata": {},
   "source": [
    "### Stop application"
   ]
  },
  {
   "cell_type": "code",
   "execution_count": null,
   "id": "5337d461",
   "metadata": {},
   "outputs": [],
   "source": [
    "spark.stop()"
   ]
  },
  {
   "cell_type": "code",
   "execution_count": null,
   "id": "bdcdd67f",
   "metadata": {},
   "outputs": [],
   "source": []
  }
 ],
 "metadata": {
  "kernelspec": {
   "display_name": "Python 3",
   "language": "python",
   "name": "python3"
  },
  "language_info": {
   "codemirror_mode": {
    "name": "ipython",
    "version": 3
   },
   "file_extension": ".py",
   "mimetype": "text/x-python",
   "name": "python",
   "nbconvert_exporter": "python",
   "pygments_lexer": "ipython3",
   "version": "3.6.8"
  }
 },
 "nbformat": 4,
 "nbformat_minor": 5
}
